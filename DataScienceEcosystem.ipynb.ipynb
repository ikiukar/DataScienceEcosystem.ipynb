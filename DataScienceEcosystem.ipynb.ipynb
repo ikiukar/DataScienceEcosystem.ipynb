{
 "cells": [
  {
   "cell_type": "markdown",
   "id": "49c920bb-d290-4a7e-be01-70fae4f73542",
   "metadata": {},
   "source": [
    "# Data Science Tools and Ecosystem"
   ]
  },
  {
   "cell_type": "markdown",
   "id": "3211b2d4-c5d6-4a4f-b7c3-af7cb45707dc",
   "metadata": {},
   "source": [
    "In this notebook, Data Science Tools and Ecosystem are summarized."
   ]
  },
  {
   "cell_type": "markdown",
   "id": "891e0d58-d5c0-4bfa-86a9-15b6c3d7375d",
   "metadata": {},
   "source": [
    "Some of the popular languages that Data Scientists use are:\n",
    "1. Python\n",
    "2. R\n",
    "3. SQL"
   ]
  },
  {
   "cell_type": "markdown",
   "id": "f770dba4-21e5-4c4a-b2c0-9a49101c3430",
   "metadata": {},
   "source": [
    "Some of the commonly used libraries used by Data Scientists include:\n",
    "1. Matplotlib\n",
    "2. Numpy\n",
    "3. Pandas"
   ]
  },
  {
   "cell_type": "markdown",
   "id": "43e188c5-f448-4454-9676-1533fecc33f4",
   "metadata": {},
   "source": [
    "|Data Science Tools|\n",
    "|-----|\n",
    "|Excel|\n",
    "|Jupyter Notebook|\n",
    "|Tableau|"
   ]
  },
  {
   "cell_type": "markdown",
   "id": "231540f9-a895-47f6-b98b-135d3817b55d",
   "metadata": {},
   "source": [
    "### Below are a few examples of evaluating arithmetic expressions in Python"
   ]
  },
  {
   "cell_type": "code",
   "execution_count": 15,
   "id": "303a12f2-d74a-4bc5-a703-15577cdc78d2",
   "metadata": {},
   "outputs": [
    {
     "data": {
      "text/plain": [
       "17"
      ]
     },
     "execution_count": 15,
     "metadata": {},
     "output_type": "execute_result"
    }
   ],
   "source": [
    "(3*4)+5\n",
    "#This a simple arithmetic expression to multiply and then add integers"
   ]
  },
  {
   "cell_type": "code",
   "execution_count": 25,
   "id": "d8b2436c-13fb-4989-8400-2a4569be7aca",
   "metadata": {},
   "outputs": [
    {
     "name": "stdout",
     "output_type": "stream",
     "text": [
      "200  minutes is equal to 3.3333333333333335 hours\n"
     ]
    }
   ],
   "source": [
    "hours = 200/60\n",
    "print('200  minutes is equal to '+str(hours)+' hours')\n",
    "#This will convert 200 minutes to hours by diving by 60"
   ]
  },
  {
   "cell_type": "markdown",
   "id": "95a920fd-a17c-4b6c-9256-2622675a1362",
   "metadata": {},
   "source": [
    "Objectives:\n",
    "- List popular languages for Data Science\n",
    "- List commonly used libraries used by Data Scientists\n",
    "- Make a table consisting of a list of Data Science Tools\n",
    "- Make arithmetic expression examples"
   ]
  },
  {
   "cell_type": "markdown",
   "id": "2f22adb9-7e66-4233-9242-1f5d502d337d",
   "metadata": {},
   "source": [
    "## Author\n",
    "Ikram Andika Ukar"
   ]
  },
  {
   "cell_type": "code",
   "execution_count": null,
   "id": "d058697e-fe64-42e2-86d5-7fc2bd4b1dd1",
   "metadata": {},
   "outputs": [],
   "source": []
  }
 ],
 "metadata": {
  "kernelspec": {
   "display_name": "Python 3 (ipykernel)",
   "language": "python",
   "name": "python3"
  },
  "language_info": {
   "codemirror_mode": {
    "name": "ipython",
    "version": 3
   },
   "file_extension": ".py",
   "mimetype": "text/x-python",
   "name": "python",
   "nbconvert_exporter": "python",
   "pygments_lexer": "ipython3",
   "version": "3.11.7"
  }
 },
 "nbformat": 4,
 "nbformat_minor": 5
}
